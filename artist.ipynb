{
  "nbformat": 4,
  "nbformat_minor": 0,
  "metadata": {
    "colab": {
      "provenance": [],
      "authorship_tag": "ABX9TyPlnGng9yVWP5gN9oL102zO",
      "include_colab_link": true
    },
    "kernelspec": {
      "name": "python3",
      "display_name": "Python 3"
    },
    "language_info": {
      "name": "python"
    }
  },
  "cells": [
    {
      "cell_type": "markdown",
      "metadata": {
        "id": "view-in-github",
        "colab_type": "text"
      },
      "source": [
        "<a href=\"https://colab.research.google.com/github/thePegasusai/csvconcert/blob/main/artist.ipynb\" target=\"_parent\"><img src=\"https://colab.research.google.com/assets/colab-badge.svg\" alt=\"Open In Colab\"/></a>"
      ]
    },
    {
      "cell_type": "code",
      "execution_count": null,
      "metadata": {
        "id": "fljxCJxxFzbt"
      },
      "outputs": [],
      "source": [
        "import pandas as pd"
      ]
    },
    {
      "cell_type": "code",
      "source": [
        "# Read the .csv file\n",
        "df = pd.read_csv('/content/tunecore-transactions_01_18_2023 (1).csv')\n",
        "\n",
        "print(df)"
      ],
      "metadata": {
        "colab": {
          "base_uri": "https://localhost:8080/"
        },
        "id": "_-HrmDhqGLXN",
        "outputId": "33aa35f9-0b0b-45f5-b87e-483cc4c2dfc4"
      },
      "execution_count": null,
      "outputs": [
        {
          "output_type": "stream",
          "name": "stdout",
          "text": [
            "           Date                              Description  Sales  Debit  \\\n",
            "0    01-14-2023                             Sales Posted    NaN    0.0   \n",
            "1           NaN  Youtube Music (Deactivated) US Nov 2022   0.53    NaN   \n",
            "2           NaN                      Pandora US Nov 2022   0.04    NaN   \n",
            "3    01-07-2023                             Sales Posted    NaN    0.0   \n",
            "4           NaN                       iTunes JP Nov 2022   0.00    NaN   \n",
            "..          ...                                      ...    ...    ...   \n",
            "691  10-10-2021                             Sales Posted    NaN    0.0   \n",
            "692         NaN                       iTunes US Aug 2021   1.40    NaN   \n",
            "693         NaN                  Apple Music US Aug 2021   0.31    NaN   \n",
            "694  09-13-2021                             Sales Posted    NaN    0.0   \n",
            "695         NaN  Youtube Music (Deactivated) US Jul 2021   0.00    NaN   \n",
            "\n",
            "       Credit  Withholding   Balance Currency  \n",
            "0    0.583710          NaN  1.063839      USD  \n",
            "1         NaN          NaN       NaN      NaN  \n",
            "2         NaN          NaN       NaN      NaN  \n",
            "3    0.302622          NaN  0.480129      USD  \n",
            "4         NaN          NaN       NaN      NaN  \n",
            "..        ...          ...       ...      ...  \n",
            "691  1.715178          NaN  1.715808      USD  \n",
            "692       NaN          NaN       NaN      NaN  \n",
            "693       NaN          NaN       NaN      NaN  \n",
            "694  0.000630          NaN  0.000630      USD  \n",
            "695       NaN          NaN       NaN      NaN  \n",
            "\n",
            "[696 rows x 8 columns]\n"
          ]
        }
      ]
    }
  ]
}